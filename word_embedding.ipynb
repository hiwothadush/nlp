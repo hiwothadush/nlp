{
  "cells": [
    {
      "cell_type": "markdown",
      "metadata": {
        "id": "view-in-github",
        "colab_type": "text"
      },
      "source": [
        "<a href=\"https://colab.research.google.com/github/hiwothadush/nlp/blob/master/word_embedding.ipynb\" target=\"_parent\"><img src=\"https://colab.research.google.com/assets/colab-badge.svg\" alt=\"Open In Colab\"/></a>"
      ]
    },
    {
      "cell_type": "code",
      "execution_count": 27,
      "metadata": {
        "id": "x-CrZkTW8yXD"
      },
      "outputs": [],
      "source": [
        "import spacy\n",
        "nlp = spacy.load(\"en_core_web_lg\")"
      ]
    },
    {
      "cell_type": "code",
      "execution_count": 28,
      "metadata": {
        "colab": {
          "base_uri": "https://localhost:8080/"
        },
        "id": "LWWQ-vW5IYXI",
        "outputId": "28d99bff-d4d0-4997-d53e-e112f182abc8"
      },
      "outputs": [
        {
          "output_type": "stream",
          "name": "stdout",
          "text": [
            "tiger vextor: True OOV: False\n",
            "book vextor: True OOV: False\n",
            "dog vextor: True OOV: False\n",
            "cat vextor: True OOV: False\n",
            "human vextor: True OOV: False\n",
            "fish vextor: True OOV: False\n",
            "Hiwot vextor: False OOV: True\n"
          ]
        }
      ],
      "source": [
        "doc = nlp(\"tiger book dog cat human fish Hiwot\")\n",
        "for token in doc:\n",
        "  print(f'{token.text} vextor: {token.has_vector} OOV: {token.is_oov}')"
      ]
    },
    {
      "cell_type": "code",
      "execution_count": 29,
      "metadata": {
        "colab": {
          "base_uri": "https://localhost:8080/"
        },
        "id": "9ydncjaCKOik",
        "outputId": "65ad02cf-a04f-48a6-feb5-93550eb1f0be"
      },
      "outputs": [
        {
          "output_type": "stream",
          "name": "stdout",
          "text": [
            "(300,)\n",
            "(300,)\n",
            "(300,)\n",
            "(300,)\n",
            "(300,)\n",
            "(300,)\n",
            "(300,)\n"
          ]
        }
      ],
      "source": [
        "for token in doc:\n",
        "  print(token.vector.shape)"
      ]
    },
    {
      "cell_type": "code",
      "execution_count": 30,
      "metadata": {
        "colab": {
          "base_uri": "https://localhost:8080/"
        },
        "id": "qAx7Pb4nMABI",
        "outputId": "46c0c4f5-b43d-4e8c-97c3-ca4080627c03"
      },
      "outputs": [
        {
          "output_type": "stream",
          "name": "stdout",
          "text": [
            "tiger vs cat --> 0.5670855263205072\n",
            "book vs cat --> 0.06959286749371499\n",
            "dog vs cat --> 0.8220817050702302\n",
            "cat vs cat --> 0.9999999525137006\n",
            "human vs cat --> 0.13821250200312798\n",
            "fish vs cat --> 0.31987173552077613\n",
            "Hiwot vs cat --> 0.0\n"
          ]
        },
        {
          "output_type": "stream",
          "name": "stderr",
          "text": [
            "<ipython-input-30-9e85829919b3>:4: UserWarning: [W008] Evaluating Token.similarity based on empty vectors.\n",
            "  print(f'{token.text} vs {word.text} --> {token.similarity(word)}')\n"
          ]
        }
      ],
      "source": [
        "#similarity checking\n",
        "word = nlp(\"cat\")\n",
        "for token in doc:\n",
        "  print(f'{token.text} vs {word.text} --> {token.similarity(word)}')"
      ]
    },
    {
      "cell_type": "code",
      "execution_count": 31,
      "metadata": {
        "id": "B65VCbySNfqk"
      },
      "outputs": [],
      "source": [
        "#create a function that checke similarity\n",
        "def check_similarity(word, word_to_compare):\n",
        "  base_word = nlp(word)\n",
        "  doc = nlp(word_to_compare)\n",
        "  for token in doc:\n",
        "    print(f'{token.text} vs {base_word.text} --> {token.similarity(base_word)}')"
      ]
    },
    {
      "cell_type": "code",
      "source": [
        "check_similarity(\"cat\", \"dog\")"
      ],
      "metadata": {
        "colab": {
          "base_uri": "https://localhost:8080/"
        },
        "id": "FnYKEOxKQJuQ",
        "outputId": "d6957568-04f1-4008-fcdc-038bc0bda094"
      },
      "execution_count": 32,
      "outputs": [
        {
          "output_type": "stream",
          "name": "stdout",
          "text": [
            "dog vs cat --> 0.8220817050702302\n"
          ]
        }
      ]
    },
    {
      "cell_type": "code",
      "source": [
        "boy = nlp.vocab[\"boy\"].vector\n",
        "girl = nlp.vocab[\"girl\"].vector\n",
        "result = 0 - girl"
      ],
      "metadata": {
        "id": "7fQjGxcxQREy"
      },
      "execution_count": 37,
      "outputs": []
    },
    {
      "cell_type": "code",
      "source": [
        "from sklearn.metrics.pairwise import cosine_similarity\n",
        "cosine_similarity([boy], [result])"
      ],
      "metadata": {
        "colab": {
          "base_uri": "https://localhost:8080/"
        },
        "id": "kz7u2CtlRYiz",
        "outputId": "fbb9cc25-ee5d-4777-db50-f04e3dac674e"
      },
      "execution_count": 38,
      "outputs": [
        {
          "output_type": "execute_result",
          "data": {
            "text/plain": [
              "array([[-0.8607839]], dtype=float32)"
            ]
          },
          "metadata": {},
          "execution_count": 38
        }
      ]
    },
    {
      "cell_type": "code",
      "source": [
        ""
      ],
      "metadata": {
        "id": "yHRXBzJOTZzH"
      },
      "execution_count": null,
      "outputs": []
    }
  ],
  "metadata": {
    "colab": {
      "provenance": [],
      "authorship_tag": "ABX9TyMhP5/pTL33yRfEuxeeum7U",
      "include_colab_link": true
    },
    "kernelspec": {
      "display_name": "Python 3",
      "name": "python3"
    },
    "language_info": {
      "name": "python"
    }
  },
  "nbformat": 4,
  "nbformat_minor": 0
}