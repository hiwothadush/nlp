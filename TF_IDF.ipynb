{
  "nbformat": 4,
  "nbformat_minor": 0,
  "metadata": {
    "colab": {
      "provenance": [],
      "authorship_tag": "ABX9TyPYJCFOsHlxEuRgFMZXFCTx",
      "include_colab_link": true
    },
    "kernelspec": {
      "name": "python3",
      "display_name": "Python 3"
    },
    "language_info": {
      "name": "python"
    }
  },
  "cells": [
    {
      "cell_type": "markdown",
      "metadata": {
        "id": "view-in-github",
        "colab_type": "text"
      },
      "source": [
        "<a href=\"https://colab.research.google.com/github/hiwothadush/nlp/blob/master/TF_IDF.ipynb\" target=\"_parent\"><img src=\"https://colab.research.google.com/assets/colab-badge.svg\" alt=\"Open In Colab\"/></a>"
      ]
    },
    {
      "cell_type": "code",
      "source": [
        "import spacy\n",
        "from sklearn.feature_extraction.text import TfidfVectorizer\n",
        "from sklearn.naive_bayes import MultinomialNB"
      ],
      "metadata": {
        "id": "_e0cZ-1lRIiK"
      },
      "execution_count": 66,
      "outputs": []
    },
    {
      "cell_type": "code",
      "source": [
        "# creating a vocab from history, culture,economy and naturaal buety of ethiopia\n",
        "corpus = [\"Historical Significance Ethiopia, often regarded as the cradle of humanity, boasts a rich historical tapestry that dates back to ancient times. The discovery of the fossilized remains of Lucy in the Afar region in 1974 provided compelling evidence that this area was home to some of the earliest human ancestors. Beyond its prehistoric significance, Ethiopia is renowned for its ancient civilizations, particularly the Kingdom of Aksum. This empire, which thrived from around the 1st to the 7th century AD, was a major trading power and one of the first regions in the world to adopt Christianity as a state religion. The historical city of Lalibela, with its rock-hewn churches dating back to the 12th century, remains a testament to Ethiopias rich religious and cultural heritage.\",\n",
        "          \"Cultural Diversity Ethiopia is a mosaic of cultures, languages, and traditions, with over 80 ethnic groups and a multitude of languages spoken across the country. The largest ethnic group, the Oromo, along with the Amhara, Tigray, and Somali peoples, contribute to the nation’s vibrant cultural landscape. Each group has its unique customs, traditional dress, music, and dance. The annual Timkat festival, which celebrates the Epiphany, showcases the deep-rooted religious traditions of Ethiopian Orthodox Christians. During this festival, colorful processions, elaborate rituals, and communal celebrations highlight the unity and diversity of Ethiopian society.\",\n",
        "\n",
        "          ]"
      ],
      "metadata": {
        "id": "gJx84P3NWart"
      },
      "execution_count": 67,
      "outputs": []
    },
    {
      "cell_type": "code",
      "source": [
        "def preprocess(text):\n",
        "    nlp = spacy.load(\"en_core_web_sm\")\n",
        "    doc=nlp(text)\n",
        "    tokens=[token.text for token in doc if not token.is_stop and not token.is_punct]\n",
        "    processed_text = \" \".join(tokens)\n",
        "    return processed_text\n",
        "processed_corpus=[]\n",
        "for text in corpus:\n",
        "  processed_text = preprocess(text)\n",
        "  processed_corpus.append(processed_text)\n",
        "print(processed_corpus)"
      ],
      "metadata": {
        "colab": {
          "base_uri": "https://localhost:8080/"
        },
        "id": "d6Aw8gKMecUO",
        "outputId": "07ce0e06-f6af-401c-b789-325436d88a98"
      },
      "execution_count": 68,
      "outputs": [
        {
          "output_type": "stream",
          "name": "stdout",
          "text": [
            "['Historical Significance Ethiopia regarded cradle humanity boasts rich historical tapestry dates ancient times discovery fossilized remains Lucy Afar region 1974 provided compelling evidence area home earliest human ancestors prehistoric significance Ethiopia renowned ancient civilizations particularly Kingdom Aksum empire thrived 1st 7th century AD major trading power regions world adopt Christianity state religion historical city Lalibela rock hewn churches dating 12th century remains testament Ethiopias rich religious cultural heritage', 'Cultural Diversity Ethiopia mosaic cultures languages traditions 80 ethnic groups multitude languages spoken country largest ethnic group Oromo Amhara Tigray Somali peoples contribute nation vibrant cultural landscape group unique customs traditional dress music dance annual Timkat festival celebrates Epiphany showcases deep rooted religious traditions Ethiopian Orthodox Christians festival colorful processions elaborate rituals communal celebrations highlight unity diversity Ethiopian society']\n"
          ]
        }
      ]
    },
    {
      "cell_type": "code",
      "source": [
        "v = TfidfVectorizer()\n",
        "transformed_text = v.fit_transform(processed_corpus)"
      ],
      "metadata": {
        "id": "Pvuxc2owhKTW"
      },
      "execution_count": 69,
      "outputs": []
    },
    {
      "cell_type": "code",
      "source": [
        "#idf_ method of vector v which is adictionary\n",
        "feature_names = v.get_feature_names_out()"
      ],
      "metadata": {
        "id": "rmCX0nHKYJX8"
      },
      "execution_count": 70,
      "outputs": []
    },
    {
      "cell_type": "code",
      "source": [
        "for word in v.vocabulary_:\n",
        "    index = v.vocabulary_.get(word)\n",
        "    print(f\"{word} {v.idf_[index]}\")"
      ],
      "metadata": {
        "colab": {
          "base_uri": "https://localhost:8080/"
        },
        "id": "TrilTxF9aVer",
        "outputId": "82ab5d14-0a44-40bd-8147-88a620d8ff73"
      },
      "execution_count": 71,
      "outputs": [
        {
          "output_type": "stream",
          "name": "stdout",
          "text": [
            "historical 1.4054651081081644\n",
            "significance 1.4054651081081644\n",
            "ethiopia 1.0\n",
            "regarded 1.4054651081081644\n",
            "cradle 1.4054651081081644\n",
            "humanity 1.4054651081081644\n",
            "boasts 1.4054651081081644\n",
            "rich 1.4054651081081644\n",
            "tapestry 1.4054651081081644\n",
            "dates 1.4054651081081644\n",
            "ancient 1.4054651081081644\n",
            "times 1.4054651081081644\n",
            "discovery 1.4054651081081644\n",
            "fossilized 1.4054651081081644\n",
            "remains 1.4054651081081644\n",
            "lucy 1.4054651081081644\n",
            "afar 1.4054651081081644\n",
            "region 1.4054651081081644\n",
            "1974 1.4054651081081644\n",
            "provided 1.4054651081081644\n",
            "compelling 1.4054651081081644\n",
            "evidence 1.4054651081081644\n",
            "area 1.4054651081081644\n",
            "home 1.4054651081081644\n",
            "earliest 1.4054651081081644\n",
            "human 1.4054651081081644\n",
            "ancestors 1.4054651081081644\n",
            "prehistoric 1.4054651081081644\n",
            "renowned 1.4054651081081644\n",
            "civilizations 1.4054651081081644\n",
            "particularly 1.4054651081081644\n",
            "kingdom 1.4054651081081644\n",
            "aksum 1.4054651081081644\n",
            "empire 1.4054651081081644\n",
            "thrived 1.4054651081081644\n",
            "1st 1.4054651081081644\n",
            "7th 1.4054651081081644\n",
            "century 1.4054651081081644\n",
            "ad 1.4054651081081644\n",
            "major 1.4054651081081644\n",
            "trading 1.4054651081081644\n",
            "power 1.4054651081081644\n",
            "regions 1.4054651081081644\n",
            "world 1.4054651081081644\n",
            "adopt 1.4054651081081644\n",
            "christianity 1.4054651081081644\n",
            "state 1.4054651081081644\n",
            "religion 1.4054651081081644\n",
            "city 1.4054651081081644\n",
            "lalibela 1.4054651081081644\n",
            "rock 1.4054651081081644\n",
            "hewn 1.4054651081081644\n",
            "churches 1.4054651081081644\n",
            "dating 1.4054651081081644\n",
            "12th 1.4054651081081644\n",
            "testament 1.4054651081081644\n",
            "ethiopias 1.4054651081081644\n",
            "religious 1.0\n",
            "cultural 1.0\n",
            "heritage 1.4054651081081644\n",
            "diversity 1.4054651081081644\n",
            "mosaic 1.4054651081081644\n",
            "cultures 1.4054651081081644\n",
            "languages 1.4054651081081644\n",
            "traditions 1.4054651081081644\n",
            "80 1.4054651081081644\n",
            "ethnic 1.4054651081081644\n",
            "groups 1.4054651081081644\n",
            "multitude 1.4054651081081644\n",
            "spoken 1.4054651081081644\n",
            "country 1.4054651081081644\n",
            "largest 1.4054651081081644\n",
            "group 1.4054651081081644\n",
            "oromo 1.4054651081081644\n",
            "amhara 1.4054651081081644\n",
            "tigray 1.4054651081081644\n",
            "somali 1.4054651081081644\n",
            "peoples 1.4054651081081644\n",
            "contribute 1.4054651081081644\n",
            "nation 1.4054651081081644\n",
            "vibrant 1.4054651081081644\n",
            "landscape 1.4054651081081644\n",
            "unique 1.4054651081081644\n",
            "customs 1.4054651081081644\n",
            "traditional 1.4054651081081644\n",
            "dress 1.4054651081081644\n",
            "music 1.4054651081081644\n",
            "dance 1.4054651081081644\n",
            "annual 1.4054651081081644\n",
            "timkat 1.4054651081081644\n",
            "festival 1.4054651081081644\n",
            "celebrates 1.4054651081081644\n",
            "epiphany 1.4054651081081644\n",
            "showcases 1.4054651081081644\n",
            "deep 1.4054651081081644\n",
            "rooted 1.4054651081081644\n",
            "ethiopian 1.4054651081081644\n",
            "orthodox 1.4054651081081644\n",
            "christians 1.4054651081081644\n",
            "colorful 1.4054651081081644\n",
            "processions 1.4054651081081644\n",
            "elaborate 1.4054651081081644\n",
            "rituals 1.4054651081081644\n",
            "communal 1.4054651081081644\n",
            "celebrations 1.4054651081081644\n",
            "highlight 1.4054651081081644\n",
            "unity 1.4054651081081644\n",
            "society 1.4054651081081644\n"
          ]
        }
      ]
    },
    {
      "cell_type": "code",
      "source": [
        "transformed_text.toarray()"
      ],
      "metadata": {
        "colab": {
          "base_uri": "https://localhost:8080/"
        },
        "id": "Rfqhz2ImbMFz",
        "outputId": "dc2b969b-49a7-46ad-85cf-2c3dc9d93d67"
      },
      "execution_count": 72,
      "outputs": [
        {
          "output_type": "execute_result",
          "data": {
            "text/plain": [
              "array([[0.1097395 , 0.1097395 , 0.1097395 , 0.1097395 , 0.        ,\n",
              "        0.1097395 , 0.1097395 , 0.1097395 , 0.1097395 , 0.        ,\n",
              "        0.1097395 , 0.21947899, 0.        , 0.1097395 , 0.1097395 ,\n",
              "        0.        , 0.        , 0.21947899, 0.1097395 , 0.        ,\n",
              "        0.1097395 , 0.1097395 , 0.1097395 , 0.        , 0.        ,\n",
              "        0.1097395 , 0.        , 0.        , 0.1097395 , 0.07808056,\n",
              "        0.        , 0.        , 0.        , 0.1097395 , 0.1097395 ,\n",
              "        0.        , 0.1097395 , 0.        , 0.        , 0.1097395 ,\n",
              "        0.        , 0.1097395 , 0.        , 0.15616111, 0.        ,\n",
              "        0.1097395 , 0.        , 0.1097395 , 0.        , 0.1097395 ,\n",
              "        0.        , 0.        , 0.1097395 , 0.1097395 , 0.        ,\n",
              "        0.32921849, 0.1097395 , 0.1097395 , 0.1097395 , 0.1097395 ,\n",
              "        0.1097395 , 0.        , 0.        , 0.        , 0.1097395 ,\n",
              "        0.1097395 , 0.        , 0.        , 0.        , 0.        ,\n",
              "        0.        , 0.        , 0.1097395 , 0.        , 0.1097395 ,\n",
              "        0.1097395 , 0.        , 0.1097395 , 0.1097395 , 0.1097395 ,\n",
              "        0.1097395 , 0.1097395 , 0.07808056, 0.21947899, 0.1097395 ,\n",
              "        0.21947899, 0.        , 0.1097395 , 0.        , 0.        ,\n",
              "        0.21947899, 0.        , 0.        , 0.        , 0.1097395 ,\n",
              "        0.1097395 , 0.1097395 , 0.1097395 , 0.        , 0.1097395 ,\n",
              "        0.        , 0.1097395 , 0.        , 0.        , 0.        ,\n",
              "        0.        , 0.        , 0.1097395 ],\n",
              "       [0.        , 0.        , 0.        , 0.        , 0.11782048,\n",
              "        0.        , 0.        , 0.        , 0.        , 0.11782048,\n",
              "        0.        , 0.        , 0.11782048, 0.        , 0.        ,\n",
              "        0.11782048, 0.11782048, 0.        , 0.        , 0.11782048,\n",
              "        0.        , 0.        , 0.        , 0.11782048, 0.11782048,\n",
              "        0.        , 0.11782048, 0.11782048, 0.        , 0.16766049,\n",
              "        0.11782048, 0.11782048, 0.11782048, 0.        , 0.        ,\n",
              "        0.11782048, 0.        , 0.23564096, 0.11782048, 0.        ,\n",
              "        0.11782048, 0.        , 0.11782048, 0.08383024, 0.23564096,\n",
              "        0.        , 0.23564096, 0.        , 0.23564096, 0.        ,\n",
              "        0.23564096, 0.11782048, 0.        , 0.        , 0.11782048,\n",
              "        0.        , 0.        , 0.        , 0.        , 0.        ,\n",
              "        0.        , 0.11782048, 0.23564096, 0.11782048, 0.        ,\n",
              "        0.        , 0.11782048, 0.11782048, 0.11782048, 0.11782048,\n",
              "        0.11782048, 0.11782048, 0.        , 0.11782048, 0.        ,\n",
              "        0.        , 0.11782048, 0.        , 0.        , 0.        ,\n",
              "        0.        , 0.        , 0.08383024, 0.        , 0.        ,\n",
              "        0.        , 0.11782048, 0.        , 0.11782048, 0.11782048,\n",
              "        0.        , 0.11782048, 0.11782048, 0.11782048, 0.        ,\n",
              "        0.        , 0.        , 0.        , 0.11782048, 0.        ,\n",
              "        0.11782048, 0.        , 0.11782048, 0.23564096, 0.11782048,\n",
              "        0.11782048, 0.11782048, 0.        ]])"
            ]
          },
          "metadata": {},
          "execution_count": 72
        }
      ]
    },
    {
      "cell_type": "code",
      "source": [],
      "metadata": {
        "id": "Dz-LviwFdGsM"
      },
      "execution_count": 72,
      "outputs": []
    }
  ]
}