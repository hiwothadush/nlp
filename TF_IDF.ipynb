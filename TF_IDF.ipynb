{
  "nbformat": 4,
  "nbformat_minor": 0,
  "metadata": {
    "colab": {
      "provenance": [],
      "authorship_tag": "ABX9TyP6J4xNatblsXdPI7lHE/R8",
      "include_colab_link": true
    },
    "kernelspec": {
      "name": "python3",
      "display_name": "Python 3"
    },
    "language_info": {
      "name": "python"
    }
  },
  "cells": [
    {
      "cell_type": "markdown",
      "metadata": {
        "id": "view-in-github",
        "colab_type": "text"
      },
      "source": [
        "<a href=\"https://colab.research.google.com/github/hiwothadush/nlp/blob/master/TF_IDF.ipynb\" target=\"_parent\"><img src=\"https://colab.research.google.com/assets/colab-badge.svg\" alt=\"Open In Colab\"/></a>"
      ]
    },
    {
      "cell_type": "code",
      "source": [
        "from sklearn.feature_extraction.text import TfidfVectorizer\n",
        "from sklearn.naive_bayes import MultinomialNB"
      ],
      "metadata": {
        "id": "_e0cZ-1lRIiK"
      },
      "execution_count": 8,
      "outputs": []
    },
    {
      "cell_type": "code",
      "source": [
        "# creating a vocab from history, culture,economy and naturaal buety of ethiopia\n",
        "corpus = [\"Historical Significance Ethiopia, often regarded as the cradle of humanity, boasts a rich historical tapestry that dates back to ancient times. The discovery of the fossilized remains of Lucy in the Afar region in 1974 provided compelling evidence that this area was home to some of the earliest human ancestors. Beyond its prehistoric significance, Ethiopia is renowned for its ancient civilizations, particularly the Kingdom of Aksum. This empire, which thrived from around the 1st to the 7th century AD, was a major trading power and one of the first regions in the world to adopt Christianity as a state religion. The historical city of Lalibela, with its rock-hewn churches dating back to the 12th century, remains a testament to Ethiopias rich religious and cultural heritage.\",\n",
        "          \"Cultural Diversity Ethiopia is a mosaic of cultures, languages, and traditions, with over 80 ethnic groups and a multitude of languages spoken across the country. The largest ethnic group, the Oromo, along with the Amhara, Tigray, and Somali peoples, contribute to the nation’s vibrant cultural landscape. Each group has its unique customs, traditional dress, music, and dance. The annual Timkat festival, which celebrates the Epiphany, showcases the deep-rooted religious traditions of Ethiopian Orthodox Christians. During this festival, colorful processions, elaborate rituals, and communal celebrations highlight the unity and diversity of Ethiopian society.\",\n",
        "\n",
        "          ]"
      ],
      "metadata": {
        "id": "gJx84P3NWart"
      },
      "execution_count": 20,
      "outputs": []
    },
    {
      "cell_type": "code",
      "source": [
        "v = TfidfVectorizer()\n",
        "transformed_text = v.fit_transform(corpus)\n",
        "print(v.vocabulary_)"
      ],
      "metadata": {
        "colab": {
          "base_uri": "https://localhost:8080/"
        },
        "id": "DJ6yRVXkVe5R",
        "outputId": "51636d85-343c-4c32-977d-932bb006bc59"
      },
      "execution_count": 21,
      "outputs": [
        {
          "output_type": "stream",
          "name": "stdout",
          "text": [
            "{'historical': 68, 'significance': 110, 'ethiopia': 52, 'often': 87, 'regarded': 98, 'as': 18, 'the': 119, 'cradle': 35, 'of': 86, 'humanity': 71, 'boasts': 21, 'rich': 105, 'tapestry': 116, 'that': 118, 'dates': 40, 'back': 19, 'to': 125, 'ancient': 13, 'times': 123, 'discovery': 43, 'fossilized': 60, 'remains': 103, 'lucy': 80, 'in': 72, 'afar': 8, 'region': 99, '1974': 1, 'provided': 97, 'compelling': 32, 'evidence': 56, 'this': 120, 'area': 16, 'was': 132, 'home': 69, 'some': 113, 'earliest': 48, 'human': 70, 'ancestors': 12, 'beyond': 20, 'its': 74, 'prehistoric': 95, 'is': 73, 'renowned': 104, 'for': 59, 'civilizations': 29, 'particularly': 92, 'kingdom': 75, 'aksum': 9, 'empire': 50, 'which': 133, 'thrived': 121, 'from': 61, 'around': 17, '1st': 2, '7th': 3, 'century': 24, 'ad': 6, 'major': 81, 'trading': 126, 'power': 94, 'and': 14, 'one': 88, 'first': 58, 'regions': 100, 'world': 135, 'adopt': 7, 'christianity': 25, 'state': 115, 'religion': 101, 'city': 28, 'lalibela': 76, 'with': 134, 'rock': 107, 'hewn': 66, 'churches': 27, 'dating': 41, '12th': 0, 'testament': 117, 'ethiopias': 54, 'religious': 102, 'cultural': 36, 'heritage': 65, 'diversity': 44, 'mosaic': 82, 'cultures': 37, 'languages': 78, 'traditions': 128, 'over': 91, '80': 4, 'ethnic': 55, 'groups': 63, 'multitude': 83, 'spoken': 114, 'across': 5, 'country': 34, 'largest': 79, 'group': 62, 'oromo': 89, 'along': 10, 'amhara': 11, 'tigray': 122, 'somali': 112, 'peoples': 93, 'contribute': 33, 'nation': 85, 'vibrant': 131, 'landscape': 77, 'each': 47, 'has': 64, 'unique': 129, 'customs': 38, 'traditional': 127, 'dress': 45, 'music': 84, 'dance': 39, 'annual': 15, 'timkat': 124, 'festival': 57, 'celebrates': 22, 'epiphany': 51, 'showcases': 109, 'deep': 42, 'rooted': 108, 'ethiopian': 53, 'orthodox': 90, 'christians': 26, 'during': 46, 'colorful': 30, 'processions': 96, 'elaborate': 49, 'rituals': 106, 'communal': 31, 'celebrations': 23, 'highlight': 67, 'unity': 130, 'society': 111}\n"
          ]
        }
      ]
    },
    {
      "cell_type": "code",
      "source": [
        "#idf_[i] method of vector v which is adictionary\n",
        "feature_names = v.get_feature_names_out()"
      ],
      "metadata": {
        "id": "rmCX0nHKYJX8"
      },
      "execution_count": 22,
      "outputs": []
    },
    {
      "cell_type": "code",
      "source": [
        "for word in v.vocabulary_:\n",
        "    index = v.vocabulary_.get(word)\n",
        "    print(f\"{word} {v.idf_[index]}\")"
      ],
      "metadata": {
        "colab": {
          "base_uri": "https://localhost:8080/"
        },
        "id": "TrilTxF9aVer",
        "outputId": "527d9bf1-cd5f-4995-cda0-fa522592d02b"
      },
      "execution_count": 25,
      "outputs": [
        {
          "output_type": "stream",
          "name": "stdout",
          "text": [
            "historical 1.4054651081081644\n",
            "significance 1.4054651081081644\n",
            "ethiopia 1.0\n",
            "often 1.4054651081081644\n",
            "regarded 1.4054651081081644\n",
            "as 1.4054651081081644\n",
            "the 1.0\n",
            "cradle 1.4054651081081644\n",
            "of 1.0\n",
            "humanity 1.4054651081081644\n",
            "boasts 1.4054651081081644\n",
            "rich 1.4054651081081644\n",
            "tapestry 1.4054651081081644\n",
            "that 1.4054651081081644\n",
            "dates 1.4054651081081644\n",
            "back 1.4054651081081644\n",
            "to 1.0\n",
            "ancient 1.4054651081081644\n",
            "times 1.4054651081081644\n",
            "discovery 1.4054651081081644\n",
            "fossilized 1.4054651081081644\n",
            "remains 1.4054651081081644\n",
            "lucy 1.4054651081081644\n",
            "in 1.4054651081081644\n",
            "afar 1.4054651081081644\n",
            "region 1.4054651081081644\n",
            "1974 1.4054651081081644\n",
            "provided 1.4054651081081644\n",
            "compelling 1.4054651081081644\n",
            "evidence 1.4054651081081644\n",
            "this 1.0\n",
            "area 1.4054651081081644\n",
            "was 1.4054651081081644\n",
            "home 1.4054651081081644\n",
            "some 1.4054651081081644\n",
            "earliest 1.4054651081081644\n",
            "human 1.4054651081081644\n",
            "ancestors 1.4054651081081644\n",
            "beyond 1.4054651081081644\n",
            "its 1.0\n",
            "prehistoric 1.4054651081081644\n",
            "is 1.0\n",
            "renowned 1.4054651081081644\n",
            "for 1.4054651081081644\n",
            "civilizations 1.4054651081081644\n",
            "particularly 1.4054651081081644\n",
            "kingdom 1.4054651081081644\n",
            "aksum 1.4054651081081644\n",
            "empire 1.4054651081081644\n",
            "which 1.0\n",
            "thrived 1.4054651081081644\n",
            "from 1.4054651081081644\n",
            "around 1.4054651081081644\n",
            "1st 1.4054651081081644\n",
            "7th 1.4054651081081644\n",
            "century 1.4054651081081644\n",
            "ad 1.4054651081081644\n",
            "major 1.4054651081081644\n",
            "trading 1.4054651081081644\n",
            "power 1.4054651081081644\n",
            "and 1.0\n",
            "one 1.4054651081081644\n",
            "first 1.4054651081081644\n",
            "regions 1.4054651081081644\n",
            "world 1.4054651081081644\n",
            "adopt 1.4054651081081644\n",
            "christianity 1.4054651081081644\n",
            "state 1.4054651081081644\n",
            "religion 1.4054651081081644\n",
            "city 1.4054651081081644\n",
            "lalibela 1.4054651081081644\n",
            "with 1.0\n",
            "rock 1.4054651081081644\n",
            "hewn 1.4054651081081644\n",
            "churches 1.4054651081081644\n",
            "dating 1.4054651081081644\n",
            "12th 1.4054651081081644\n",
            "testament 1.4054651081081644\n",
            "ethiopias 1.4054651081081644\n",
            "religious 1.0\n",
            "cultural 1.0\n",
            "heritage 1.4054651081081644\n",
            "diversity 1.4054651081081644\n",
            "mosaic 1.4054651081081644\n",
            "cultures 1.4054651081081644\n",
            "languages 1.4054651081081644\n",
            "traditions 1.4054651081081644\n",
            "over 1.4054651081081644\n",
            "80 1.4054651081081644\n",
            "ethnic 1.4054651081081644\n",
            "groups 1.4054651081081644\n",
            "multitude 1.4054651081081644\n",
            "spoken 1.4054651081081644\n",
            "across 1.4054651081081644\n",
            "country 1.4054651081081644\n",
            "largest 1.4054651081081644\n",
            "group 1.4054651081081644\n",
            "oromo 1.4054651081081644\n",
            "along 1.4054651081081644\n",
            "amhara 1.4054651081081644\n",
            "tigray 1.4054651081081644\n",
            "somali 1.4054651081081644\n",
            "peoples 1.4054651081081644\n",
            "contribute 1.4054651081081644\n",
            "nation 1.4054651081081644\n",
            "vibrant 1.4054651081081644\n",
            "landscape 1.4054651081081644\n",
            "each 1.4054651081081644\n",
            "has 1.4054651081081644\n",
            "unique 1.4054651081081644\n",
            "customs 1.4054651081081644\n",
            "traditional 1.4054651081081644\n",
            "dress 1.4054651081081644\n",
            "music 1.4054651081081644\n",
            "dance 1.4054651081081644\n",
            "annual 1.4054651081081644\n",
            "timkat 1.4054651081081644\n",
            "festival 1.4054651081081644\n",
            "celebrates 1.4054651081081644\n",
            "epiphany 1.4054651081081644\n",
            "showcases 1.4054651081081644\n",
            "deep 1.4054651081081644\n",
            "rooted 1.4054651081081644\n",
            "ethiopian 1.4054651081081644\n",
            "orthodox 1.4054651081081644\n",
            "christians 1.4054651081081644\n",
            "during 1.4054651081081644\n",
            "colorful 1.4054651081081644\n",
            "processions 1.4054651081081644\n",
            "elaborate 1.4054651081081644\n",
            "rituals 1.4054651081081644\n",
            "communal 1.4054651081081644\n",
            "celebrations 1.4054651081081644\n",
            "highlight 1.4054651081081644\n",
            "unity 1.4054651081081644\n",
            "society 1.4054651081081644\n"
          ]
        }
      ]
    },
    {
      "cell_type": "code",
      "source": [
        "transformed_text.toarray()"
      ],
      "metadata": {
        "colab": {
          "base_uri": "https://localhost:8080/"
        },
        "id": "Rfqhz2ImbMFz",
        "outputId": "8e17d4f6-5ff9-4d0e-b73a-2bcbfe816bf7"
      },
      "execution_count": 26,
      "outputs": [
        {
          "output_type": "execute_result",
          "data": {
            "text/plain": [
              "array([[0.06427019, 0.06427019, 0.06427019, 0.06427019, 0.        ,\n",
              "        0.        , 0.06427019, 0.06427019, 0.06427019, 0.06427019,\n",
              "        0.        , 0.        , 0.06427019, 0.12854038, 0.09145754,\n",
              "        0.        , 0.06427019, 0.06427019, 0.12854038, 0.12854038,\n",
              "        0.06427019, 0.06427019, 0.        , 0.        , 0.12854038,\n",
              "        0.06427019, 0.        , 0.06427019, 0.06427019, 0.06427019,\n",
              "        0.        , 0.        , 0.06427019, 0.        , 0.        ,\n",
              "        0.06427019, 0.04572877, 0.        , 0.        , 0.        ,\n",
              "        0.06427019, 0.06427019, 0.        , 0.06427019, 0.        ,\n",
              "        0.        , 0.        , 0.        , 0.06427019, 0.        ,\n",
              "        0.06427019, 0.        , 0.09145754, 0.        , 0.06427019,\n",
              "        0.        , 0.06427019, 0.        , 0.06427019, 0.06427019,\n",
              "        0.06427019, 0.06427019, 0.        , 0.        , 0.        ,\n",
              "        0.06427019, 0.06427019, 0.        , 0.19281057, 0.06427019,\n",
              "        0.06427019, 0.06427019, 0.19281057, 0.04572877, 0.13718631,\n",
              "        0.06427019, 0.06427019, 0.        , 0.        , 0.        ,\n",
              "        0.06427019, 0.06427019, 0.        , 0.        , 0.        ,\n",
              "        0.        , 0.32010139, 0.06427019, 0.06427019, 0.        ,\n",
              "        0.        , 0.        , 0.06427019, 0.        , 0.06427019,\n",
              "        0.06427019, 0.        , 0.06427019, 0.06427019, 0.06427019,\n",
              "        0.06427019, 0.06427019, 0.04572877, 0.12854038, 0.06427019,\n",
              "        0.12854038, 0.        , 0.06427019, 0.        , 0.        ,\n",
              "        0.12854038, 0.        , 0.        , 0.06427019, 0.        ,\n",
              "        0.06427019, 0.06427019, 0.06427019, 0.12854038, 0.54874524,\n",
              "        0.09145754, 0.06427019, 0.        , 0.06427019, 0.        ,\n",
              "        0.27437262, 0.06427019, 0.        , 0.        , 0.        ,\n",
              "        0.        , 0.        , 0.12854038, 0.04572877, 0.04572877,\n",
              "        0.06427019],\n",
              "       [0.        , 0.        , 0.        , 0.        , 0.08167032,\n",
              "        0.08167032, 0.        , 0.        , 0.        , 0.        ,\n",
              "        0.08167032, 0.08167032, 0.        , 0.        , 0.34865464,\n",
              "        0.08167032, 0.        , 0.        , 0.        , 0.        ,\n",
              "        0.        , 0.        , 0.08167032, 0.08167032, 0.        ,\n",
              "        0.        , 0.08167032, 0.        , 0.        , 0.        ,\n",
              "        0.08167032, 0.08167032, 0.        , 0.08167032, 0.08167032,\n",
              "        0.        , 0.11621821, 0.08167032, 0.08167032, 0.08167032,\n",
              "        0.        , 0.        , 0.08167032, 0.        , 0.16334064,\n",
              "        0.08167032, 0.08167032, 0.08167032, 0.        , 0.08167032,\n",
              "        0.        , 0.08167032, 0.05810911, 0.16334064, 0.        ,\n",
              "        0.16334064, 0.        , 0.16334064, 0.        , 0.        ,\n",
              "        0.        , 0.        , 0.16334064, 0.08167032, 0.08167032,\n",
              "        0.        , 0.        , 0.08167032, 0.        , 0.        ,\n",
              "        0.        , 0.        , 0.        , 0.05810911, 0.05810911,\n",
              "        0.        , 0.        , 0.08167032, 0.16334064, 0.08167032,\n",
              "        0.        , 0.        , 0.08167032, 0.08167032, 0.08167032,\n",
              "        0.08167032, 0.23243642, 0.        , 0.        , 0.08167032,\n",
              "        0.08167032, 0.08167032, 0.        , 0.08167032, 0.        ,\n",
              "        0.        , 0.08167032, 0.        , 0.        , 0.        ,\n",
              "        0.        , 0.        , 0.05810911, 0.        , 0.        ,\n",
              "        0.        , 0.08167032, 0.        , 0.08167032, 0.08167032,\n",
              "        0.        , 0.08167032, 0.08167032, 0.        , 0.08167032,\n",
              "        0.        , 0.        , 0.        , 0.        , 0.52298196,\n",
              "        0.05810911, 0.        , 0.08167032, 0.        , 0.08167032,\n",
              "        0.05810911, 0.        , 0.08167032, 0.16334064, 0.08167032,\n",
              "        0.08167032, 0.08167032, 0.        , 0.05810911, 0.11621821,\n",
              "        0.        ]])"
            ]
          },
          "metadata": {},
          "execution_count": 26
        }
      ]
    },
    {
      "cell_type": "code",
      "source": [],
      "metadata": {
        "id": "Dz-LviwFdGsM"
      },
      "execution_count": null,
      "outputs": []
    }
  ]
}