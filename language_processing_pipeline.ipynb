{
  "nbformat": 4,
  "nbformat_minor": 0,
  "metadata": {
    "colab": {
      "provenance": [],
      "authorship_tag": "ABX9TyOvkeEJlNg/iEbm4c/A2+cU",
      "include_colab_link": true
    },
    "kernelspec": {
      "name": "python3",
      "display_name": "Python 3"
    },
    "language_info": {
      "name": "python"
    }
  },
  "cells": [
    {
      "cell_type": "markdown",
      "metadata": {
        "id": "view-in-github",
        "colab_type": "text"
      },
      "source": [
        "<a href=\"https://colab.research.google.com/github/hiwothadush/nlp/blob/master/language_processing_pipeline.ipynb\" target=\"_parent\"><img src=\"https://colab.research.google.com/assets/colab-badge.svg\" alt=\"Open In Colab\"/></a>"
      ]
    },
    {
      "cell_type": "code",
      "execution_count": 82,
      "metadata": {
        "id": "9jqGQqnLyQrX"
      },
      "outputs": [],
      "source": [
        "#stemming and lemmmatizer with nltk and spacy\n",
        "import nltk\n",
        "import spacy"
      ]
    },
    {
      "cell_type": "code",
      "source": [
        "from nltk.stem import PorterStemmer\n",
        "stemmer = PorterStemmer()"
      ],
      "metadata": {
        "id": "_-56ae01ziQQ"
      },
      "execution_count": 83,
      "outputs": []
    },
    {
      "cell_type": "code",
      "source": [
        "#stemming with nltk\n",
        "words =[\"waiting\", \"eating\", \"aet\", \"abelity\", \"adjustable\"]\n",
        "for word in words:\n",
        "    print(word, \"|\",stemmer.stem(word))"
      ],
      "metadata": {
        "colab": {
          "base_uri": "https://localhost:8080/"
        },
        "id": "93-lz9Ezz2Qk",
        "outputId": "7857d5ed-3c54-487c-f36a-d838dd209b0c"
      },
      "execution_count": 84,
      "outputs": [
        {
          "output_type": "stream",
          "name": "stdout",
          "text": [
            "waiting | wait\n",
            "eating | eat\n",
            "aet | aet\n",
            "abelity | abel\n",
            "adjustable | adjust\n"
          ]
        }
      ]
    },
    {
      "cell_type": "code",
      "source": [
        "#lemmatizer wtih spacy\n",
        "nlp = spacy.load(\"en_core_web_sm\")\n",
        "doc = nlp(\"waiting eating aet abelity adjustable\")\n",
        "for word in doc:\n",
        "  print(word, \"|\", word.lemma_, \"|\",word.lemma)"
      ],
      "metadata": {
        "colab": {
          "base_uri": "https://localhost:8080/"
        },
        "id": "q0gSM3Rw00Wq",
        "outputId": "311fac56-5380-4b76-d05a-aaf0734528bd"
      },
      "execution_count": 85,
      "outputs": [
        {
          "output_type": "stream",
          "name": "stdout",
          "text": [
            "waiting | wait | 6203382976377178934\n",
            "eating | eat | 9837207709914848172\n",
            "aet | aet | 12025006109572156502\n",
            "abelity | abelity | 2318854617160378386\n",
            "adjustable | adjustable | 6033511944150694480\n"
          ]
        }
      ]
    },
    {
      "cell_type": "code",
      "source": [
        "nlp.pipe_names\n"
      ],
      "metadata": {
        "colab": {
          "base_uri": "https://localhost:8080/"
        },
        "id": "7-T5ewfm1e1W",
        "outputId": "03bb5570-c83a-4104-da32-cdeb6426fb28"
      },
      "execution_count": 86,
      "outputs": [
        {
          "output_type": "execute_result",
          "data": {
            "text/plain": [
              "['tok2vec', 'tagger', 'parser', 'attribute_ruler', 'lemmatizer', 'ner']"
            ]
          },
          "metadata": {},
          "execution_count": 86
        }
      ]
    },
    {
      "cell_type": "code",
      "source": [
        "#adding custum rules to the attribute ruler\n",
        "ar = nlp.get_pipe('attribute_ruler')\n",
        "ar.add([[{\"text\":\"mum\"}],[{\"text\":\"mama\"}]],{\"lemma\":\"mother\"})\n",
        "doc =nlp(\"mama, you wana go? mum do not say no\")\n",
        "for word in doc:\n",
        "  print(word, \"|\", word.lemma_)"
      ],
      "metadata": {
        "colab": {
          "base_uri": "https://localhost:8080/"
        },
        "id": "OO6FMQti3cnJ",
        "outputId": "f8febf62-0b3b-47ca-b5c5-98b1d1b6da39"
      },
      "execution_count": 87,
      "outputs": [
        {
          "output_type": "stream",
          "name": "stdout",
          "text": [
            "mama | mother\n",
            ", | ,\n",
            "you | you\n",
            "wana | wana\n",
            "go | go\n",
            "? | ?\n",
            "mum | mother\n",
            "do | do\n",
            "not | not\n",
            "say | say\n",
            "no | no\n"
          ]
        }
      ]
    },
    {
      "cell_type": "code",
      "source": [
        "#part of speach\n",
        "text=\"HIwot went to library yesterday\"\n",
        "doc =nlp(text)\n",
        "for word in doc:\n",
        "  print(word, \"|\", word.pos_,\"|\", spacy.explain(word.pos_),\"|\",word.tag_,\"|\",spacy.explain(word.tag_,))"
      ],
      "metadata": {
        "colab": {
          "base_uri": "https://localhost:8080/"
        },
        "id": "gU23ldT94bri",
        "outputId": "a6a9cadf-7d9d-4198-be33-651ea0e7cc81"
      },
      "execution_count": 88,
      "outputs": [
        {
          "output_type": "stream",
          "name": "stdout",
          "text": [
            "HIwot | PROPN | proper noun | NNP | noun, proper singular\n",
            "went | VERB | verb | VBD | verb, past tense\n",
            "to | ADP | adposition | IN | conjunction, subordinating or preposition\n",
            "library | NOUN | noun | NN | noun, singular or mass\n",
            "yesterday | NOUN | noun | NN | noun, singular or mass\n"
          ]
        }
      ]
    },
    {
      "cell_type": "code",
      "source": [
        "#filtering and countimg\n",
        "count = doc.count_by(spacy.attrs.POS)\n",
        "count"
      ],
      "metadata": {
        "colab": {
          "base_uri": "https://localhost:8080/"
        },
        "id": "KK7uWtsW8GYR",
        "outputId": "8193fa9e-d7c9-48c0-bb46-8dfafaa81e27"
      },
      "execution_count": 89,
      "outputs": [
        {
          "output_type": "execute_result",
          "data": {
            "text/plain": [
              "{96: 1, 100: 1, 85: 1, 92: 2}"
            ]
          },
          "metadata": {},
          "execution_count": 89
        }
      ]
    },
    {
      "cell_type": "code",
      "source": [
        "for k,v in count.items():\n",
        "  print(doc.vocab[k].text,v)\n"
      ],
      "metadata": {
        "colab": {
          "base_uri": "https://localhost:8080/"
        },
        "id": "XB0FobGpCDPv",
        "outputId": "f975c247-097a-4ea7-9f6d-b7445fdaf387"
      },
      "execution_count": 90,
      "outputs": [
        {
          "output_type": "stream",
          "name": "stdout",
          "text": [
            "PROPN 1\n",
            "VERB 1\n",
            "ADP 1\n",
            "NOUN 2\n"
          ]
        }
      ]
    },
    {
      "cell_type": "code",
      "source": [
        "#named entity recignintion(NER)\n",
        "doc = nlp(\"CBE plans to make $10.8 billion this year\")\n",
        "for ent in doc.ents:\n",
        "  print(ent.text, ent.label_)"
      ],
      "metadata": {
        "colab": {
          "base_uri": "https://localhost:8080/"
        },
        "id": "r9in4q9vELIj",
        "outputId": "348a6679-1be4-4829-f325-9689d327c602"
      },
      "execution_count": 91,
      "outputs": [
        {
          "output_type": "stream",
          "name": "stdout",
          "text": [
            "CBE ORG\n",
            "$10.8 billion MONEY\n",
            "this year DATE\n"
          ]
        }
      ]
    },
    {
      "cell_type": "code",
      "source": [
        "from spacy import displacy\n",
        "displacy.render(doc,style=\"ent\")"
      ],
      "metadata": {
        "colab": {
          "base_uri": "https://localhost:8080/",
          "height": 52
        },
        "id": "fSJoF_nlFgFC",
        "outputId": "e2974d0b-d859-4f2e-f5e4-63bf850cfc65"
      },
      "execution_count": 92,
      "outputs": [
        {
          "output_type": "display_data",
          "data": {
            "text/plain": [
              "<IPython.core.display.HTML object>"
            ],
            "text/html": [
              "<span class=\"tex2jax_ignore\"><div class=\"entities\" style=\"line-height: 2.5; direction: ltr\">\n",
              "<mark class=\"entity\" style=\"background: #7aecec; padding: 0.45em 0.6em; margin: 0 0.25em; line-height: 1; border-radius: 0.35em;\">\n",
              "    CBE\n",
              "    <span style=\"font-size: 0.8em; font-weight: bold; line-height: 1; border-radius: 0.35em; vertical-align: middle; margin-left: 0.5rem\">ORG</span>\n",
              "</mark>\n",
              " plans to make \n",
              "<mark class=\"entity\" style=\"background: #e4e7d2; padding: 0.45em 0.6em; margin: 0 0.25em; line-height: 1; border-radius: 0.35em;\">\n",
              "    $10.8 billion\n",
              "    <span style=\"font-size: 0.8em; font-weight: bold; line-height: 1; border-radius: 0.35em; vertical-align: middle; margin-left: 0.5rem\">MONEY</span>\n",
              "</mark>\n",
              " \n",
              "<mark class=\"entity\" style=\"background: #bfe1d9; padding: 0.45em 0.6em; margin: 0 0.25em; line-height: 1; border-radius: 0.35em;\">\n",
              "    this year\n",
              "    <span style=\"font-size: 0.8em; font-weight: bold; line-height: 1; border-radius: 0.35em; vertical-align: middle; margin-left: 0.5rem\">DATE</span>\n",
              "</mark>\n",
              "</div></span>"
            ]
          },
          "metadata": {}
        }
      ]
    },
    {
      "cell_type": "code",
      "source": [
        "#customize 'ner'\n",
        "doc =nlp(\"Tesla is going to aquaire Twitter for $4.5 billion\")\n",
        "for ent in doc.ents:\n",
        "  print(ent.text,ent.label_)"
      ],
      "metadata": {
        "colab": {
          "base_uri": "https://localhost:8080/"
        },
        "id": "WtGOZNAhJ99q",
        "outputId": "1c7f8ee2-9e1d-4a57-c69f-8c313913289a"
      },
      "execution_count": 93,
      "outputs": [
        {
          "output_type": "stream",
          "name": "stdout",
          "text": [
            "Tesla ORG\n",
            "Twitter PRODUCT\n",
            "$4.5 billion MONEY\n"
          ]
        }
      ]
    },
    {
      "cell_type": "code",
      "source": [
        "#modifiy label of span of a doc\n",
        "from spacy.tokens import Span\n",
        "\n",
        "s2 = Span(doc, 5, 6, label=\"ORG\")\n",
        "\n",
        "doc.set_ents([s2], default=\"unmodified\")\n",
        "for ent in doc.ents:\n",
        "    print(ent.text, \" | \", ent.label_)"
      ],
      "metadata": {
        "colab": {
          "base_uri": "https://localhost:8080/"
        },
        "id": "RHiJE061OnLH",
        "outputId": "a78ef271-a497-4276-cf8c-6bf5796e2bdd"
      },
      "execution_count": 102,
      "outputs": [
        {
          "output_type": "stream",
          "name": "stdout",
          "text": [
            "Twitter  |  ORG\n"
          ]
        }
      ]
    },
    {
      "cell_type": "code",
      "source": [
        "#Extract all the Geographical (cities, Countries, states) names from a given text\n",
        "text = \"\"\"I want to know the famous foods in each state of Ethiopia. So, he opened Google and search for this question. Google showed that\n",
        "in Tigria it is hilbet, in Amhara it is kocho, in Oromia it is shiro, so on for all other states\"\"\"\n",
        "\n",
        "doc = nlp(text)\n",
        "Geo_names = []\n",
        "for ent in doc.ents:\n",
        "  if ent.label_==\"GPE\":\n",
        "    Geo_names.append(ent)\n",
        "print(Geo_names)\n",
        "print(f'count,{len(Geo_names)}')\n"
      ],
      "metadata": {
        "colab": {
          "base_uri": "https://localhost:8080/"
        },
        "id": "8kx4B7bgQ-MY",
        "outputId": "789c586e-dd49-4f30-d910-bc0c74ccd04f"
      },
      "execution_count": 117,
      "outputs": [
        {
          "output_type": "stream",
          "name": "stdout",
          "text": [
            "[Ethiopia, Tigria, Amhara, Oromia]\n",
            "count,4\n"
          ]
        }
      ]
    },
    {
      "cell_type": "code",
      "source": [
        "#Extract the birth dates of my son from the given Text\n",
        "doc=nlp(\"Nolawi was born on 30 December 2022.\")\n",
        "birth_date = []\n",
        "for ent in doc.ents:\n",
        "  if ent.label_ ==\"DATE\":\n",
        "    birth_date.append(ent)\n",
        "print(birth_date)"
      ],
      "metadata": {
        "colab": {
          "base_uri": "https://localhost:8080/"
        },
        "id": "6yQ_FhOobgAy",
        "outputId": "72932e9a-9051-4580-dc19-85947f8a72d7"
      },
      "execution_count": 119,
      "outputs": [
        {
          "output_type": "stream",
          "name": "stdout",
          "text": [
            "[30 December 2022]\n"
          ]
        }
      ]
    },
    {
      "cell_type": "code",
      "source": [],
      "metadata": {
        "id": "yFPPoDk1dknp"
      },
      "execution_count": null,
      "outputs": []
    }
  ]
}