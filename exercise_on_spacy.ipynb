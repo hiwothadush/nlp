{
  "cells": [
    {
      "cell_type": "markdown",
      "metadata": {
        "id": "view-in-github",
        "colab_type": "text"
      },
      "source": [
        "<a href=\"https://colab.research.google.com/github/hiwothadush/nlp/blob/master/exercise_on_spacy.ipynb\" target=\"_parent\"><img src=\"https://colab.research.google.com/assets/colab-badge.svg\" alt=\"Open In Colab\"/></a>"
      ]
    },
    {
      "cell_type": "code",
      "execution_count": null,
      "metadata": {
        "id": "aUOmqfSGgY8n"
      },
      "outputs": [],
      "source": [
        "import spacy"
      ]
    },
    {
      "cell_type": "code",
      "execution_count": null,
      "metadata": {
        "id": "43ogp_H8gY8r"
      },
      "outputs": [],
      "source": [
        "nlp = spacy.blank(\"en\")\n",
        "text = nlp(\"This is my first spacy exersice. It is all about sentence tokenize.\")"
      ]
    },
    {
      "cell_type": "code",
      "execution_count": null,
      "metadata": {
        "colab": {
          "base_uri": "https://localhost:8080/"
        },
        "id": "7STZtLm8gY8t",
        "outputId": "d7adb3f0-9ef4-44eb-87d0-42f158ee2cb1"
      },
      "outputs": [
        {
          "output_type": "stream",
          "name": "stdout",
          "text": [
            "This\n",
            "is\n",
            "my\n",
            "first\n",
            "spacy\n",
            "exersice\n",
            ".\n",
            "It\n",
            "is\n",
            "all\n",
            "about\n",
            "sentence\n",
            "tokenize\n",
            ".\n"
          ]
        }
      ],
      "source": [
        "for token in text:\n",
        "    print(token)"
      ]
    },
    {
      "cell_type": "code",
      "execution_count": null,
      "metadata": {
        "id": "R20o0DW3gY8v"
      },
      "outputs": [],
      "source": [
        "doc = nlp('''\"let's go to A.A!.\"''')"
      ]
    },
    {
      "cell_type": "code",
      "execution_count": null,
      "metadata": {
        "colab": {
          "base_uri": "https://localhost:8080/"
        },
        "id": "lQ0B0ud5gY8w",
        "outputId": "825bde2a-f21f-415e-d31b-12b7279c81ca"
      },
      "outputs": [
        {
          "output_type": "stream",
          "name": "stdout",
          "text": [
            "\"\n",
            "let\n",
            "'s\n",
            "go\n",
            "to\n",
            "A.A\n",
            "!\n",
            ".\n",
            "\"\n",
            "<class 'spacy.lang.en.English'>\n",
            "<class 'spacy.tokens.doc.Doc'>\n",
            "<class 'spacy.tokens.token.Token'>\n"
          ]
        }
      ],
      "source": [
        "for token in doc:\n",
        "\n",
        "    print(token)\n",
        "\n",
        "print(type(nlp))\n",
        "print(type(doc))\n",
        "print(type(token))\n"
      ]
    },
    {
      "cell_type": "code",
      "execution_count": null,
      "metadata": {
        "colab": {
          "base_uri": "https://localhost:8080/"
        },
        "id": "k7bfI7plgY8y",
        "outputId": "f38cf2fb-99c4-412f-c43f-85f6fd33cf10"
      },
      "outputs": [
        {
          "output_type": "stream",
          "name": "stdout",
          "text": [
            "\"\n",
            "let's go\n"
          ]
        }
      ],
      "source": [
        "# access individaul tokens or a span of tokens\n",
        "print(doc[0])\n",
        "print(doc[1:4])\n"
      ]
    },
    {
      "cell_type": "code",
      "execution_count": null,
      "metadata": {
        "colab": {
          "base_uri": "https://localhost:8080/"
        },
        "id": "quVc-1umgY8y",
        "outputId": "93682db3-f6b2-41b9-cc84-8e57378c5427"
      },
      "outputs": [
        {
          "output_type": "execute_result",
          "data": {
            "text/plain": [
              "False"
            ]
          },
          "metadata": {},
          "execution_count": 8
        }
      ],
      "source": [
        "#use of token dir()\n",
        "token = doc[0]\n",
        "token.is_alpha\n"
      ]
    },
    {
      "cell_type": "code",
      "execution_count": null,
      "metadata": {
        "colab": {
          "base_uri": "https://localhost:8080/",
          "height": 35
        },
        "id": "gMRgqA7SgY81",
        "outputId": "05dc3205-09c5-4631-d8ec-345b6d103498"
      },
      "outputs": [
        {
          "output_type": "execute_result",
          "data": {
            "text/plain": [
              "\"'s\""
            ],
            "application/vnd.google.colaboratory.intrinsic+json": {
              "type": "string"
            }
          },
          "metadata": {},
          "execution_count": 9
        }
      ],
      "source": [
        "doc[2].text"
      ]
    },
    {
      "cell_type": "code",
      "execution_count": null,
      "metadata": {
        "id": "YrvYkbHkgY82"
      },
      "outputs": [],
      "source": [
        "text = nlp(\"hello dear this is my email.Please attache the files here. hiwothadush5@gmail.com\")"
      ]
    },
    {
      "cell_type": "code",
      "execution_count": null,
      "metadata": {
        "colab": {
          "base_uri": "https://localhost:8080/"
        },
        "id": "sF0LjkhCgY83",
        "outputId": "2d140615-d8fb-43a8-cfb2-fb7290cc1628"
      },
      "outputs": [
        {
          "output_type": "stream",
          "name": "stdout",
          "text": [
            "[hiwothadush5@gmail.com]\n"
          ]
        }
      ],
      "source": [
        "email =[]\n",
        "for token in text:\n",
        "    if token.like_email:\n",
        "        email.append(token)\n",
        "print(email)\n"
      ]
    },
    {
      "cell_type": "code",
      "execution_count": null,
      "metadata": {
        "id": "eOaHYG98gY84"
      },
      "outputs": [],
      "source": [
        "nlp2 = spacy.blank(\"ti\")"
      ]
    },
    {
      "cell_type": "code",
      "execution_count": null,
      "metadata": {
        "colab": {
          "base_uri": "https://localhost:8080/"
        },
        "id": "LdgikuR6gY85",
        "outputId": "1af83d50-3347-4250-d343-004b5d9f552a"
      },
      "outputs": [
        {
          "output_type": "stream",
          "name": "stdout",
          "text": [
            "Hello\n",
            "dear\n",
            "my\n",
            "name\n",
            "is\n",
            "Hiwot\n",
            ".\n",
            "I\n",
            "work\n",
            "on\n",
            "Nlp\n",
            ".\n"
          ]
        }
      ],
      "source": [
        "message = nlp(\"Hello dear my name is Hiwot. I work on Nlp.\")\n",
        "for tokens in message:\n",
        "    print(tokens)"
      ]
    },
    {
      "cell_type": "code",
      "execution_count": null,
      "metadata": {
        "colab": {
          "base_uri": "https://localhost:8080/"
        },
        "id": "1OiB9IbdgY86",
        "outputId": "3e8f3b87-e33c-4594-8942-8e0ec0a02e43"
      },
      "outputs": [
        {
          "output_type": "execute_result",
          "data": {
            "text/plain": [
              "['sentencizer']"
            ]
          },
          "metadata": {},
          "execution_count": 14
        }
      ],
      "source": [
        "nlp.add_pipe('sentencizer')\n",
        "nlp.pipe_names\n"
      ]
    },
    {
      "cell_type": "code",
      "execution_count": null,
      "metadata": {
        "colab": {
          "base_uri": "https://localhost:8080/"
        },
        "id": "rl6Pnlk-gY87",
        "outputId": "1d5b9f7b-525f-449c-f8f9-20a843b83424"
      },
      "outputs": [
        {
          "output_type": "stream",
          "name": "stdout",
          "text": [
            "Hello dear my name is Hiwot.\n",
            "I work on Nlp.\n"
          ]
        }
      ],
      "source": [
        "\n",
        "doc = nlp(\"Hello dear my name is Hiwot. I work on Nlp.\")\n",
        "for sentence in doc.sents:\n",
        "    print(sentence)"
      ]
    },
    {
      "cell_type": "code",
      "source": [
        "nlp = spacy.load(\"en_core_web_sm\")"
      ],
      "metadata": {
        "id": "w2jfejEDg7jJ"
      },
      "execution_count": null,
      "outputs": []
    },
    {
      "cell_type": "code",
      "source": [
        "nlp.pipe_names"
      ],
      "metadata": {
        "colab": {
          "base_uri": "https://localhost:8080/"
        },
        "id": "iBzTHPKPJRxT",
        "outputId": "343cfc7b-b2c2-4b21-d2cf-e45e44d5c0a4"
      },
      "execution_count": null,
      "outputs": [
        {
          "output_type": "execute_result",
          "data": {
            "text/plain": [
              "['tok2vec', 'tagger', 'parser', 'attribute_ruler', 'lemmatizer', 'ner']"
            ]
          },
          "metadata": {},
          "execution_count": 17
        }
      ]
    },
    {
      "cell_type": "code",
      "source": [
        "doc = nlp(\"Hello dear my name is Hiwot. I am Nlp engineer.\")\n",
        "for token in doc:\n",
        "    print(token,\" |\" , token.pos_ ,\" | \", token.lemma_)"
      ],
      "metadata": {
        "colab": {
          "base_uri": "https://localhost:8080/"
        },
        "id": "JyhFWMgwKMJP",
        "outputId": "5b55ed1d-723d-437a-f5ab-ee5ede478056"
      },
      "execution_count": null,
      "outputs": [
        {
          "output_type": "stream",
          "name": "stdout",
          "text": [
            "Hello  | INTJ  |  hello\n",
            "dear  | INTJ  |  dear\n",
            "my  | PRON  |  my\n",
            "name  | NOUN  |  name\n",
            "is  | AUX  |  be\n",
            "Hiwot  | PROPN  |  Hiwot\n",
            ".  | PUNCT  |  .\n",
            "I  | PRON  |  I\n",
            "am  | AUX  |  be\n",
            "Nlp  | PROPN  |  Nlp\n",
            "engineer  | NOUN  |  engineer\n",
            ".  | PUNCT  |  .\n"
          ]
        }
      ]
    },
    {
      "cell_type": "code",
      "source": [
        "for ent in doc.ents:\n",
        "  print(ent.text,ent.label_ )"
      ],
      "metadata": {
        "colab": {
          "base_uri": "https://localhost:8080/"
        },
        "id": "fySC4zIbMmVT",
        "outputId": "ecbc59f3-0242-4320-ae8c-773b32767a5f"
      },
      "execution_count": null,
      "outputs": [
        {
          "output_type": "stream",
          "name": "stdout",
          "text": [
            "Hiwot PERSON\n",
            "Nlp GPE\n"
          ]
        }
      ]
    },
    {
      "cell_type": "code",
      "source": [
        "#considering on some pipelines\n",
        "source_nlp = spacy.load(\"en_core_web_sm\")\n",
        "nlp= spacy.blank(\"en\")\n",
        "nlp.add_pipe(\"ner\",source = source_nlp)\n",
        "nlp.pipe_names"
      ],
      "metadata": {
        "colab": {
          "base_uri": "https://localhost:8080/"
        },
        "id": "AO-cThhGNt6m",
        "outputId": "954c34f0-b8c4-4814-ceae-26414b1987c7"
      },
      "execution_count": null,
      "outputs": [
        {
          "output_type": "execute_result",
          "data": {
            "text/plain": [
              "['ner']"
            ]
          },
          "metadata": {},
          "execution_count": 20
        }
      ]
    },
    {
      "cell_type": "code",
      "source": [
        "nlp = spacy.load(\"en_core_web_sm\")\n",
        "\n",
        "text = '''The Top 5 companies in USA are Tesla, Walmart, Amazon, Microsoft, Google and the top 5 companies in\n",
        "India are Infosys, Reliance, HDFC Bank, Hindustan Unilever and Bharti Airtel'''\n",
        "\n",
        "#Get all the proper nouns from a given text in a list and also count how many of them.\n",
        "doc = nlp(text)\n",
        "company = []\n",
        "for ent in doc.ents:\n",
        "  if ent.label_ == \"ORG\":\n",
        "    company.append(ent)\n",
        "print(company)\n",
        "print(f\"count:{len(company)}\")"
      ],
      "metadata": {
        "colab": {
          "base_uri": "https://localhost:8080/"
        },
        "id": "aJVgh6K6ebGH",
        "outputId": "7ba615d0-c580-49cc-d926-efa4e0a03caf"
      },
      "execution_count": null,
      "outputs": [
        {
          "output_type": "stream",
          "name": "stdout",
          "text": [
            "[Tesla, Walmart, Amazon, Microsoft, Google, Infosys, Reliance, HDFC Bank, Hindustan Unilever, Bharti]\n",
            "count:10\n"
          ]
        }
      ]
    },
    {
      "cell_type": "code",
      "source": [
        "# Get all companies names from a given text and also the count of them.\n",
        "\n",
        "text = '''The Top 5 companies in USA are Tesla, Walmart, Amazon, Microsoft, Google and the top 5 companies in\n",
        "India are Infosys, Reliance, HDFC Bank, Hindustan Unilever and Bharti Airtel'''\n",
        "\n",
        "doc = nlp(text)\n",
        "pronoun = []\n",
        "for token in doc:\n",
        "  if token.pos_ == \"PROPN\":\n",
        "    pronoun.append(token)\n",
        "print(pronoun)\n",
        "print(f\"count:{len(pronoun)}\")"
      ],
      "metadata": {
        "colab": {
          "base_uri": "https://localhost:8080/"
        },
        "id": "3TVEaV8-iB7f",
        "outputId": "62fa18b1-7504-410e-a53c-0f1453dfed7a"
      },
      "execution_count": null,
      "outputs": [
        {
          "output_type": "stream",
          "name": "stdout",
          "text": [
            "[USA, Tesla, Walmart, Amazon, Microsoft, Google, India, Infosys, Reliance, HDFC, Bank, Hindustan, Unilever, Bharti, Airtel]\n",
            "count:15\n"
          ]
        }
      ]
    },
    {
      "cell_type": "code",
      "source": [],
      "metadata": {
        "id": "I6X-jX3vwaO8"
      },
      "execution_count": null,
      "outputs": []
    }
  ],
  "metadata": {
    "kernelspec": {
      "display_name": "Python 3",
      "language": "python",
      "name": "python3"
    },
    "language_info": {
      "codemirror_mode": {
        "name": "ipython",
        "version": 3
      },
      "file_extension": ".py",
      "mimetype": "text/x-python",
      "name": "python",
      "nbconvert_exporter": "python",
      "pygments_lexer": "ipython3",
      "version": "3.10.11"
    },
    "colab": {
      "provenance": [],
      "include_colab_link": true
    }
  },
  "nbformat": 4,
  "nbformat_minor": 0
}