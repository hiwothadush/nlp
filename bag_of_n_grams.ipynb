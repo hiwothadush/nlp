{
  "cells": [
    {
      "cell_type": "markdown",
      "metadata": {
        "id": "view-in-github",
        "colab_type": "text"
      },
      "source": [
        "<a href=\"https://colab.research.google.com/github/hiwothadush/nlp/blob/master/bag_of_n_grams.ipynb\" target=\"_parent\"><img src=\"https://colab.research.google.com/assets/colab-badge.svg\" alt=\"Open In Colab\"/></a>"
      ]
    },
    {
      "cell_type": "code",
      "execution_count": 44,
      "metadata": {
        "colab": {
          "base_uri": "https://localhost:8080/"
        },
        "id": "elaolhUjkroP",
        "outputId": "aa61fd45-c66d-431d-de85-0baf8a0be9fe"
      },
      "outputs": [
        {
          "output_type": "execute_result",
          "data": {
            "text/plain": [
              "{'have': 6,\n",
              " 'alredy': 0,\n",
              " 'eaten': 3,\n",
              " 'my': 10,\n",
              " 'lunch': 9,\n",
              " 'have alredy': 7,\n",
              " 'alredy eaten': 1,\n",
              " 'eaten my': 4,\n",
              " 'my lunch': 11,\n",
              " 'have alredy eaten': 8,\n",
              " 'alredy eaten my': 2,\n",
              " 'eaten my lunch': 5}"
            ]
          },
          "metadata": {},
          "execution_count": 44
        }
      ],
      "source": [
        "#bag of n-grmas\n",
        "import spacy\n",
        "from sklearn.feature_extraction.text import CountVectorizer\n",
        "nlp = spacy.load('en_core_web_sm')\n",
        "v = CountVectorizer(ngram_range=(1,3))\n",
        "v.fit([\"I have alredy eaten my lunch\"])\n",
        "v.vocabulary_"
      ]
    },
    {
      "cell_type": "code",
      "source": [
        "def preprocess(text):\n",
        "    doc = nlp(text)\n",
        "    filtered_text = []\n",
        "    for token in doc:\n",
        "      if token.is_stop or token.is_punct:\n",
        "        continue\n",
        "      filtered_text.append(token.lemma_)\n",
        "    return ' '.join(filtered_text)"
      ],
      "metadata": {
        "id": "iv0Hol8QyNr_"
      },
      "execution_count": 46,
      "outputs": []
    },
    {
      "cell_type": "code",
      "execution_count": 47,
      "metadata": {
        "id": "XA0gyW2Sl0v4"
      },
      "outputs": [],
      "source": [
        "# creating a vocab from acorpus\n",
        "mycorpus= [\n",
        "    'I have ate.',\n",
        "    'alredy eaten.',\n",
        "    'she ate her dinner.',\n",
        "    'I ate my lanch',\n",
        "]"
      ]
    },
    {
      "cell_type": "code",
      "source": [
        "preprcessed_corpus = [preprocess(text) for text in mycorpus]\n",
        "preprcessed_corpus"
      ],
      "metadata": {
        "colab": {
          "base_uri": "https://localhost:8080/"
        },
        "id": "2_QkeN5oyGZ5",
        "outputId": "2803b66d-2daf-44e1-dd45-8d2dfc31f66b"
      },
      "execution_count": 48,
      "outputs": [
        {
          "output_type": "execute_result",
          "data": {
            "text/plain": [
              "['eat', 'alredy eat', 'eat dinner', 'eat lanch']"
            ]
          },
          "metadata": {},
          "execution_count": 48
        }
      ]
    },
    {
      "cell_type": "code",
      "source": [
        "v = CountVectorizer(ngram_range=(1,2))\n",
        "v.fit(preprcessed_corpus)\n",
        "v.vocabulary_"
      ],
      "metadata": {
        "colab": {
          "base_uri": "https://localhost:8080/"
        },
        "id": "SzbtQvR4yXT4",
        "outputId": "ae41e7c2-c123-4e88-a4da-498c1ddde372"
      },
      "execution_count": 49,
      "outputs": [
        {
          "output_type": "execute_result",
          "data": {
            "text/plain": [
              "{'eat': 3,\n",
              " 'alredy': 0,\n",
              " 'alredy eat': 1,\n",
              " 'dinner': 2,\n",
              " 'eat dinner': 4,\n",
              " 'lanch': 6,\n",
              " 'eat lanch': 5}"
            ]
          },
          "metadata": {},
          "execution_count": 49
        }
      ]
    },
    {
      "cell_type": "code",
      "source": [
        "v1 = v.transform([\"he ate his dinner\"]).toarray()\n",
        "v1"
      ],
      "metadata": {
        "colab": {
          "base_uri": "https://localhost:8080/"
        },
        "id": "gbTWEPNzyaZC",
        "outputId": "db408478-379f-4742-dfc6-acc237624d1e"
      },
      "execution_count": 50,
      "outputs": [
        {
          "output_type": "execute_result",
          "data": {
            "text/plain": [
              "array([[0, 0, 1, 0, 0, 0, 0]])"
            ]
          },
          "metadata": {},
          "execution_count": 50
        }
      ]
    },
    {
      "cell_type": "code",
      "source": [],
      "metadata": {
        "id": "jvw8Y_5bycm-"
      },
      "execution_count": null,
      "outputs": []
    }
  ],
  "metadata": {
    "colab": {
      "provenance": [],
      "authorship_tag": "ABX9TyN0SD9UFDVbDwxTcIkaKzOF",
      "include_colab_link": true
    },
    "kernelspec": {
      "display_name": "Python 3",
      "name": "python3"
    },
    "language_info": {
      "name": "python"
    }
  },
  "nbformat": 4,
  "nbformat_minor": 0
}